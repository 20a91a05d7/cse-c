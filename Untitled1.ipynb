{
  "nbformat": 4,
  "nbformat_minor": 0,
  "metadata": {
    "colab": {
      "name": "Untitled1.ipynb",
      "provenance": [],
      "authorship_tag": "ABX9TyMj1hmuYi6T4r7FxycbncHe",
      "include_colab_link": true
    },
    "kernelspec": {
      "name": "python3",
      "display_name": "Python 3"
    },
    "language_info": {
      "name": "python"
    }
  },
  "cells": [
    {
      "cell_type": "markdown",
      "metadata": {
        "id": "view-in-github",
        "colab_type": "text"
      },
      "source": [
        "<a href=\"https://colab.research.google.com/github/sanjanabandi18/cse-c/blob/main/Untitled1.ipynb\" target=\"_parent\"><img src=\"https://colab.research.google.com/assets/colab-badge.svg\" alt=\"Open In Colab\"/></a>"
      ]
    },
    {
      "cell_type": "code",
      "metadata": {
        "colab": {
          "base_uri": "https://localhost:8080/"
        },
        "id": "y7VR0BPfpogS",
        "outputId": "d7e18900-8a27-479a-88a1-1ca0f21ea46c"
      },
      "source": [
        "#lab programs\n",
        "#1.1\n",
        "fk=float(input('enter weight in kilograms'))\n",
        "fp=2.2*fk\n",
        "print('%f kilograms is equalent to %f pounds'%(fk,fp))\n",
        "print(fk,'kilograms is equalent to',fp,'pounds')\n",
        "print('{} kilograms is equalent to {} pounds'.format(fk,fp))\n",
        "print(str(fk)+''+' kilograms is equalent to '+str(fp)+''+'pounds')\n",
        "print(f'{fk} kilograms is equalent to {fp} pounds')"
      ],
      "execution_count": null,
      "outputs": [
        {
          "output_type": "stream",
          "text": [
            "enter weight in kilograms2.5\n",
            "2.500000 kilograms is equalent to 5.500000 pounds\n",
            "2.5 kilograms is equalent to 5.5 pounds\n",
            "2.5 kilograms is equalent to 5.5 pounds\n",
            "2.5 kilograms is equalent to 5.5pounds\n",
            "2.5 kilograms is equalent to 5.5 pounds\n"
          ],
          "name": "stdout"
        }
      ]
    }
  ]
}