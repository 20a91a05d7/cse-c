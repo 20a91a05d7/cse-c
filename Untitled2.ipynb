{
  "nbformat": 4,
  "nbformat_minor": 0,
  "metadata": {
    "colab": {
      "name": "Untitled2.ipynb",
      "provenance": [],
      "authorship_tag": "ABX9TyOaytAhxGeXhdRBDSEy12m7",
      "include_colab_link": true
    },
    "kernelspec": {
      "name": "python3",
      "display_name": "Python 3"
    },
    "language_info": {
      "name": "python"
    }
  },
  "cells": [
    {
      "cell_type": "markdown",
      "metadata": {
        "id": "view-in-github",
        "colab_type": "text"
      },
      "source": [
        "<a href=\"https://colab.research.google.com/github/sanjanabandi18/cse-c/blob/main/Untitled2.ipynb\" target=\"_parent\"><img src=\"https://colab.research.google.com/assets/colab-badge.svg\" alt=\"Open In Colab\"/></a>"
      ]
    },
    {
      "cell_type": "code",
      "metadata": {
        "colab": {
          "base_uri": "https://localhost:8080/"
        },
        "id": "yFfhcFwatxQf",
        "outputId": "d044bf88-2bd8-428a-a1a1-6091292b6dc4"
      },
      "source": [
        "#lab program\n",
        "#1.2\n",
        "a=float(input('enter a value'))\n",
        "b=float(input('enter b value'))\n",
        "c=float(input('enter c value'))\n",
        "total=a+b+c\n",
        "average=(a+b+c)/3\n",
        "print('total is %f average is %f'%(total,average))\n",
        "print('total is',total,'average is',average)\n",
        "print('total is {} average is {}'.format(total,average))\n",
        "print('total is '+str(total)+''+'average is '+str(average)+'')\n",
        "print(f'total is {total} average is {average}')"
      ],
      "execution_count": null,
      "outputs": [
        {
          "output_type": "stream",
          "text": [
            "enter a value1\n",
            "enter b value2\n",
            "enter c value3\n",
            "total is 6.000000 average is 2.000000\n",
            "total is 6.0 average is 2.0\n",
            "total is 6.0 average is 2.0\n",
            "total is 6.0average is 2.0\n",
            "total is 6.0 average is 2.0\n"
          ],
          "name": "stdout"
        }
      ]
    }
  ]
}